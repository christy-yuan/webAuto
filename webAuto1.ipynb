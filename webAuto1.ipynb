{
 "cells": [
  {
   "cell_type": "code",
   "execution_count": 1,
   "metadata": {},
   "outputs": [
    {
     "name": "stderr",
     "output_type": "stream",
     "text": [
      "/Users/christyy/Library/Python/3.9/lib/python/site-packages/urllib3/__init__.py:35: NotOpenSSLWarning: urllib3 v2 only supports OpenSSL 1.1.1+, currently the 'ssl' module is compiled with 'LibreSSL 2.8.3'. See: https://github.com/urllib3/urllib3/issues/3020\n",
      "  warnings.warn(\n"
     ]
    }
   ],
   "source": [
    "import selenium\n",
    "from selenium import webdriver\n",
    "from selenium.webdriver.chrome.service import Service\n",
    "from selenium.webdriver.common.by import By\n",
    "from webdriver_manager.chrome import ChromeDriverManager\n",
    "from selenium.webdriver.common.keys import Keys\n",
    "import time"
   ]
  },
  {
   "cell_type": "code",
   "execution_count": 6,
   "metadata": {},
   "outputs": [
    {
     "name": "stdout",
     "output_type": "stream",
     "text": [
      "[<selenium.webdriver.remote.webelement.WebElement (session=\"a18a61d2fa990c1245b359c9eefd4c1d\", element=\"f.1C8D5E0BA1C89BDAC5A4F0DD197BA02A.d.4806C706D5ED93C5CADDFDEB66788682.e.66\")>, <selenium.webdriver.remote.webelement.WebElement (session=\"a18a61d2fa990c1245b359c9eefd4c1d\", element=\"f.1C8D5E0BA1C89BDAC5A4F0DD197BA02A.d.4806C706D5ED93C5CADDFDEB66788682.e.67\")>, <selenium.webdriver.remote.webelement.WebElement (session=\"a18a61d2fa990c1245b359c9eefd4c1d\", element=\"f.1C8D5E0BA1C89BDAC5A4F0DD197BA02A.d.4806C706D5ED93C5CADDFDEB66788682.e.68\")>, <selenium.webdriver.remote.webelement.WebElement (session=\"a18a61d2fa990c1245b359c9eefd4c1d\", element=\"f.1C8D5E0BA1C89BDAC5A4F0DD197BA02A.d.4806C706D5ED93C5CADDFDEB66788682.e.69\")>, <selenium.webdriver.remote.webelement.WebElement (session=\"a18a61d2fa990c1245b359c9eefd4c1d\", element=\"f.1C8D5E0BA1C89BDAC5A4F0DD197BA02A.d.4806C706D5ED93C5CADDFDEB66788682.e.70\")>, <selenium.webdriver.remote.webelement.WebElement (session=\"a18a61d2fa990c1245b359c9eefd4c1d\", element=\"f.1C8D5E0BA1C89BDAC5A4F0DD197BA02A.d.4806C706D5ED93C5CADDFDEB66788682.e.71\")>, <selenium.webdriver.remote.webelement.WebElement (session=\"a18a61d2fa990c1245b359c9eefd4c1d\", element=\"f.1C8D5E0BA1C89BDAC5A4F0DD197BA02A.d.4806C706D5ED93C5CADDFDEB66788682.e.72\")>, <selenium.webdriver.remote.webelement.WebElement (session=\"a18a61d2fa990c1245b359c9eefd4c1d\", element=\"f.1C8D5E0BA1C89BDAC5A4F0DD197BA02A.d.4806C706D5ED93C5CADDFDEB66788682.e.73\")>, <selenium.webdriver.remote.webelement.WebElement (session=\"a18a61d2fa990c1245b359c9eefd4c1d\", element=\"f.1C8D5E0BA1C89BDAC5A4F0DD197BA02A.d.4806C706D5ED93C5CADDFDEB66788682.e.74\")>, <selenium.webdriver.remote.webelement.WebElement (session=\"a18a61d2fa990c1245b359c9eefd4c1d\", element=\"f.1C8D5E0BA1C89BDAC5A4F0DD197BA02A.d.4806C706D5ED93C5CADDFDEB66788682.e.75\")>, <selenium.webdriver.remote.webelement.WebElement (session=\"a18a61d2fa990c1245b359c9eefd4c1d\", element=\"f.1C8D5E0BA1C89BDAC5A4F0DD197BA02A.d.4806C706D5ED93C5CADDFDEB66788682.e.76\")>, <selenium.webdriver.remote.webelement.WebElement (session=\"a18a61d2fa990c1245b359c9eefd4c1d\", element=\"f.1C8D5E0BA1C89BDAC5A4F0DD197BA02A.d.4806C706D5ED93C5CADDFDEB66788682.e.77\")>, <selenium.webdriver.remote.webelement.WebElement (session=\"a18a61d2fa990c1245b359c9eefd4c1d\", element=\"f.1C8D5E0BA1C89BDAC5A4F0DD197BA02A.d.4806C706D5ED93C5CADDFDEB66788682.e.78\")>, <selenium.webdriver.remote.webelement.WebElement (session=\"a18a61d2fa990c1245b359c9eefd4c1d\", element=\"f.1C8D5E0BA1C89BDAC5A4F0DD197BA02A.d.4806C706D5ED93C5CADDFDEB66788682.e.79\")>, <selenium.webdriver.remote.webelement.WebElement (session=\"a18a61d2fa990c1245b359c9eefd4c1d\", element=\"f.1C8D5E0BA1C89BDAC5A4F0DD197BA02A.d.4806C706D5ED93C5CADDFDEB66788682.e.80\")>, <selenium.webdriver.remote.webelement.WebElement (session=\"a18a61d2fa990c1245b359c9eefd4c1d\", element=\"f.1C8D5E0BA1C89BDAC5A4F0DD197BA02A.d.4806C706D5ED93C5CADDFDEB66788682.e.81\")>, <selenium.webdriver.remote.webelement.WebElement (session=\"a18a61d2fa990c1245b359c9eefd4c1d\", element=\"f.1C8D5E0BA1C89BDAC5A4F0DD197BA02A.d.4806C706D5ED93C5CADDFDEB66788682.e.82\")>, <selenium.webdriver.remote.webelement.WebElement (session=\"a18a61d2fa990c1245b359c9eefd4c1d\", element=\"f.1C8D5E0BA1C89BDAC5A4F0DD197BA02A.d.4806C706D5ED93C5CADDFDEB66788682.e.83\")>, <selenium.webdriver.remote.webelement.WebElement (session=\"a18a61d2fa990c1245b359c9eefd4c1d\", element=\"f.1C8D5E0BA1C89BDAC5A4F0DD197BA02A.d.4806C706D5ED93C5CADDFDEB66788682.e.84\")>, <selenium.webdriver.remote.webelement.WebElement (session=\"a18a61d2fa990c1245b359c9eefd4c1d\", element=\"f.1C8D5E0BA1C89BDAC5A4F0DD197BA02A.d.4806C706D5ED93C5CADDFDEB66788682.e.85\")>, <selenium.webdriver.remote.webelement.WebElement (session=\"a18a61d2fa990c1245b359c9eefd4c1d\", element=\"f.1C8D5E0BA1C89BDAC5A4F0DD197BA02A.d.4806C706D5ED93C5CADDFDEB66788682.e.86\")>, <selenium.webdriver.remote.webelement.WebElement (session=\"a18a61d2fa990c1245b359c9eefd4c1d\", element=\"f.1C8D5E0BA1C89BDAC5A4F0DD197BA02A.d.4806C706D5ED93C5CADDFDEB66788682.e.87\")>, <selenium.webdriver.remote.webelement.WebElement (session=\"a18a61d2fa990c1245b359c9eefd4c1d\", element=\"f.1C8D5E0BA1C89BDAC5A4F0DD197BA02A.d.4806C706D5ED93C5CADDFDEB66788682.e.88\")>, <selenium.webdriver.remote.webelement.WebElement (session=\"a18a61d2fa990c1245b359c9eefd4c1d\", element=\"f.1C8D5E0BA1C89BDAC5A4F0DD197BA02A.d.4806C706D5ED93C5CADDFDEB66788682.e.89\")>, <selenium.webdriver.remote.webelement.WebElement (session=\"a18a61d2fa990c1245b359c9eefd4c1d\", element=\"f.1C8D5E0BA1C89BDAC5A4F0DD197BA02A.d.4806C706D5ED93C5CADDFDEB66788682.e.90\")>]\n"
     ]
    }
   ],
   "source": [
    "driver = webdriver.Chrome(service=Service(ChromeDriverManager().install())) \n",
    "#This code is for opening the chrome tab \n",
    "driver.get(\"https://www.youtube.com\")\n",
    "time.sleep(3)\n",
    "textarea = driver.find_element(By.XPATH, \"/html/body/ytd-app/div[1]/div[2]/ytd-masthead/div[4]/div[2]/yt-searchbox/div[1]/form/input\")\n",
    "textarea.click()\n",
    "textarea.send_keys(\"Roblox\")\n",
    "textarea.send_keys(Keys.RETURN)\n",
    "time.sleep(3)\n",
    "video_title_elements = driver.find_elements(By.XPATH, \"//*[@id='title-wrapper']/h3\")\n"
   ]
  },
  {
   "cell_type": "code",
   "execution_count": 9,
   "metadata": {},
   "outputs": [
    {
     "name": "stdout",
     "output_type": "stream",
     "text": [
      "1. FREE TO PLAY to 100 WINSTREAK in Roblox Rivals..\n",
      "2. 1 OR 2? 🔥✨ROBLOX ANIMATION #roblox #animation #edit #art\n",
      "3. Using NEW SHIELD in Roblox Rivals!\n",
      "4. ROBLOX Brookhaven 🏡RP - FUNNY MOMENTS: Rich & Poor | Roblox Idol\n",
      "5. ROBLOX Fisch Funny Moments (MEMES)\n",
      "6. Things in Roblox we are leaving in 2024\n",
      "7. The CREEPIEST Roblox Accounts..\n",
      "8. Roblox Sigma Mascot PM For Bookings 🤪 #shorts\n",
      "9. ROBLOX GOT HACKED…\n",
      "10. iShowSpeed Plays Roblox Squid Games\n",
      "11. everyone HATES the RIOT SHIELD, so I unlocked DIAMOND.. (Roblox Rivals)\n",
      "12. RED LIGHT GREEN LIGHT TROLLING ON SHRIMP GAME ROBLOX\n",
      "13. ALL JANUARY 2025 Roblox Promo Codes For FREE ROBLOX ITEMS | Roblox Codes 2025\n",
      "14. TERRIBLE Artists Play DRAW AND SWITCH\n",
      "15. Roblox Squid Game But We’re GUARDS\n",
      "16. KAT ESCAPES KUROMI'S PRISON RUN IN ROBLOX (OBBY)\n",
      "17. Roblox Sigma Fail + Face Reveal 😭 #shorts\n",
      "18. Friday Night Funkin' - Fire In The Hole V5 | SHADOWS FROM THE GRAVE (FNF Lobotomy Geometry Dash 2.2)\n",
      "19. Discord 新手完全指南！全地球人都在瘋的社群平台，再不用 Discord 你就 Out 了！\n",
      "20. 【保姆级教学】TikTok下载使用最详细教程，TikTok检测绕过原理，TikTok功能操作演示和不同国家版本区别，下载安装TikTok最新方法，永久有效，无需电脑，跨境电商运营\n",
      "21. The FIRST VERSION of BROOKHAVEN!\n",
      "22. KAT ESCAPES MISS ANI-TRON'S DETENTION IN ROBLOX (OBBY)\n",
      "23. Roblox Squid Game Is Back...\n",
      "24. OWNER ADMIN in ROBLOX SQUID GAME\n",
      "25. emotes are now p2w\n"
     ]
    }
   ],
   "source": [
    "video_title_list = []\n",
    "for title in video_title_elements:\n",
    "    video_title_list.append(title.text)\n",
    "for index, title in enumerate(video_title_list, start=1):\n",
    "    print(f\"{index}. {title}\")"
   ]
  },
  {
   "cell_type": "markdown",
   "metadata": {},
   "source": []
  }
 ],
 "metadata": {
  "kernelspec": {
   "display_name": "Python 3",
   "language": "python",
   "name": "python3"
  },
  "language_info": {
   "codemirror_mode": {
    "name": "ipython",
    "version": 3
   },
   "file_extension": ".py",
   "mimetype": "text/x-python",
   "name": "python",
   "nbconvert_exporter": "python",
   "pygments_lexer": "ipython3",
   "version": "3.9.6"
  }
 },
 "nbformat": 4,
 "nbformat_minor": 2
}
